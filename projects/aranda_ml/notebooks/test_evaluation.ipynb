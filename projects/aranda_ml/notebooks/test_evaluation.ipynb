{
 "cells": [
  {
   "cell_type": "code",
   "execution_count": 0,
   "metadata": {
    "application/vnd.databricks.v1+cell": {
     "cellMetadata": {
      "byteLimit": 2048000,
      "rowLimit": 10000
     },
     "inputWidgets": {},
     "nuid": "ffc65e5b-94fe-4067-a9a3-df4ec7db7aa4",
     "showTitle": false,
     "tableResultSettingsMap": {},
     "title": ""
    }
   },
   "outputs": [],
   "source": [
    "from pyspark.sql.types import StructType, StructField, IntegerType, StringType, DateType, ArrayType, FloatType\n",
    "from pyspark.sql.functions import expr, lower, col\n",
    "from pyspark.ml import Pipeline\n",
    "from pyspark.ml.feature import StringIndexer, Tokenizer, StopWordsRemover, CountVectorizer, StandardScaler\n",
    "from pyspark.ml.classification import MultilayerPerceptronClassifier\n",
    "from pyspark.ml.evaluation import MulticlassClassificationEvaluator\n",
    "import mlflow\n",
    "import mlflow.spark\n",
    "import mlflow.pyfunc\n",
    "from mlflow.models import infer_signature, ModelSignature\n",
    "from mlflow.models.signature import ModelSignature\n",
    "from mlflow.types import Schema, ColSpec\n",
    "from mlflow.tracking import MlflowClient\n",
    "from mlflow import MlflowClient"
   ]
  },
  {
   "cell_type": "code",
   "execution_count": 0,
   "metadata": {
    "application/vnd.databricks.v1+cell": {
     "cellMetadata": {
      "byteLimit": 2048000,
      "rowLimit": 10000
     },
     "inputWidgets": {},
     "nuid": "444b0d43-c001-4727-bbc9-b75c5a5ae13a",
     "showTitle": false,
     "tableResultSettingsMap": {},
     "title": ""
    }
   },
   "outputs": [],
   "source": [
    "DATABRICKS_UC = 'databricks-uc'\n",
    "DATABRICKS_BEST_MODEL_TAG =  \"Champion\"\n",
    "TEST_METRIC = 'accuracy_score'\n",
    "MODEL_NAME = 'perceptron_description_to_category'\n",
    "MODEL_NAMES = f'tmp_cat_dev.aranda_ml.{MODEL_NAME}'\n",
    "ERROR_MESSAGE = \"El valor ingresado no es un número.\"\n",
    "notebook_path = \"/notebook/src/baseline.ipynb\"\n",
    "PARAMETER_VALUE = \"false\"\n",
    "PARAMETER_NAME = \"LOCAL_EVALUATION\""
   ]
  },
  {
   "cell_type": "code",
   "execution_count": 0,
   "metadata": {
    "application/vnd.databricks.v1+cell": {
     "cellMetadata": {},
     "inputWidgets": {},
     "nuid": "0510fc1a-6d98-433d-a2ad-a1b3d0f5f26f",
     "showTitle": false,
     "tableResultSettingsMap": {},
     "title": ""
    }
   },
   "outputs": [],
   "source": [
    "dbutils.widgets.text(\"METRIC_EVALUATION\", \"0\", \"Set METRIC_EVALUATION (0/number)\")\n",
    "METRIC_EVALUATION_INPUT = dbutils.widgets.get(\"METRIC_EVALUATION\")\n",
    "if METRIC_EVALUATION_INPUT.isnumeric():\n",
    "    METRIC_EVALUATION = float(METRIC_EVALUATION_INPUT)\n",
    "else:\n",
    "    dbutils.notebook.exit(ERROR_MESSAGE)"
   ]
  },
  {
   "cell_type": "code",
   "execution_count": 0,
   "metadata": {
    "application/vnd.databricks.v1+cell": {
     "cellMetadata": {},
     "inputWidgets": {},
     "nuid": "d1f2174d-2470-4370-8a07-fa9a7dfd6233",
     "showTitle": false,
     "tableResultSettingsMap": {},
     "title": ""
    }
   },
   "outputs": [],
   "source": [
    "client = MlflowClient()\n",
    "mlflow.set_registry_uri(DATABRICKS_UC)\n",
    "model_version = client.get_model_version_by_alias(MODEL_NAMES, DATABRICKS_BEST_MODEL_TAG)\n",
    "run = client.get_run(model_version.run_id)\n",
    "metric = run.data.metrics.get(TEST_METRIC)\n",
    "if METRIC_EVALUATION > float(metric):\n",
    "    try:\n",
    "        dbutils.notebook.run(notebook_path, 600, {PARAMETER_NAME: PARAMETER_VALUE})\n",
    "        dbutils.notebook.exit(str(1))\n",
    "    except Exception as e:\n",
    "        pass\n",
    "dbutils.notebook.exit(str(0))"
   ]
  }
 ],
 "metadata": {
  "application/vnd.databricks.v1+notebook": {
   "computePreferences": null,
   "dashboards": [],
   "environmentMetadata": {
    "base_environment": "",
    "environment_version": "1"
   },
   "language": "python",
   "notebookMetadata": {
    "pythonIndentUnit": 4
   },
   "notebookName": "test_evaluation",
   "widgets": {}
  },
  "language_info": {
   "name": "python"
  }
 },
 "nbformat": 4,
 "nbformat_minor": 0
}
