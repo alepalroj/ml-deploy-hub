{
 "cells": [
  {
   "cell_type": "code",
   "execution_count": 0,
   "metadata": {
    "application/vnd.databricks.v1+cell": {
     "cellMetadata": {},
     "inputWidgets": {},
     "nuid": "88f890bc-4c8e-4508-afbf-20e55fa73fd5",
     "showTitle": false,
     "title": ""
    }
   },
   "outputs": [],
   "source": [
    "SCHEMA_NAME = \"aranda_ml\"\n",
    "TABLE_NAME = \"tmp_cat_dev.aranda.casos\"\n",
    "FEATURES_TABLE_NAME = \"tmp_cat_dev.aranda_ml.features\"\n",
    "\n",
    "spark.sql(f\"CREATE SCHEMA tmp_cat_dev.{SCHEMA_NAME}\")\n",
    "df = spark.read.table(TABLE_NAME)"
   ]
  },
  {
   "cell_type": "code",
   "execution_count": 0,
   "metadata": {
    "application/vnd.databricks.v1+cell": {
     "cellMetadata": {},
     "inputWidgets": {},
     "nuid": "bb5655b9-1d04-4695-a805-8949acb76e9d",
     "showTitle": false,
     "title": ""
    }
   },
   "outputs": [],
   "source": [
    "from pyspark.sql.functions import monotonically_increasing_id\n",
    "df = df.select('id','IncidenttypeID','IncidentSubject','IncidentDescription','IncidentCommentary','GroupID','CategoryID', 'ServiceID','SlaID','RegistrytypeID','PriorityID','CityID','DepartamentoID','IncidentAnsInTime')"
   ]
  },
  {
   "cell_type": "code",
   "execution_count": 0,
   "metadata": {
    "application/vnd.databricks.v1+cell": {
     "cellMetadata": {},
     "inputWidgets": {},
     "nuid": "7e9b58a4-2f52-4986-9e59-760dce5af071",
     "showTitle": false,
     "title": ""
    }
   },
   "outputs": [],
   "source": [
    "from pyspark.ml.feature import StringIndexer\n",
    "from pyspark.ml import Pipeline\n",
    "categorical_columns = ['IncidenttypeID','GroupID','CategoryID','ServiceID','SlaID','RegistrytypeID','PriorityID','CityID','DepartamentoID','IncidentAnsInTime']\n",
    "indexers = [StringIndexer(inputCol=col, outputCol=col + \"_idx\", handleInvalid=\"skip\") for col in categorical_columns]\n",
    "pipeline = Pipeline(stages=indexers)\n",
    "model = pipeline.fit(df)\n",
    "df = model.transform(df)"
   ]
  },
  {
   "cell_type": "code",
   "execution_count": 0,
   "metadata": {
    "application/vnd.databricks.v1+cell": {
     "cellMetadata": {},
     "inputWidgets": {},
     "nuid": "8ef5490b-da08-41e2-bb2a-aceaf84456f8",
     "showTitle": false,
     "title": ""
    }
   },
   "outputs": [],
   "source": [
    "from pyspark.sql.functions import concat, col, lit, regexp_replace\n",
    "df_concatenado = df.withColumn(\"Description\", concat(col(\"IncidentSubject\"), lit(\" \"),col(\"IncidentDescription\"), lit(\" \"),col(\"IncidentCommentary\")))\n",
    "df_concatenado = df_concatenado.withColumn(\"Description\", regexp_replace(col(\"Description\"), \"\\\\s{2,}\", \" \"))\n",
    "df_concatenado = df_concatenado.select('id','IncidenttypeID','Description','GroupID','CategoryID','ServiceID','SlaID','RegistrytypeID','PriorityID','CityID','DepartamentoID','IncidentAnsInTime','IncidenttypeID_idx','GroupID_idx','CategoryID_idx','ServiceID_idx','SlaID_idx','RegistrytypeID_idx','PriorityID_idx','CityID_idx','DepartamentoID_idx','IncidentAnsInTime_idx')"
   ]
  },
  {
   "cell_type": "code",
   "execution_count": 0,
   "metadata": {
    "application/vnd.databricks.v1+cell": {
     "cellMetadata": {},
     "inputWidgets": {},
     "nuid": "361e1186-dd89-4028-8cd7-d25c4d2fb264",
     "showTitle": false,
     "title": ""
    }
   },
   "outputs": [],
   "source": [
    "from databricks.feature_store import FeatureStoreClient\n",
    "fs_client = FeatureStoreClient()\n",
    "fs_client.create_table(\n",
    "    name=FEATURES_TABLE_NAME,\n",
    "    primary_keys=[\"id\"],\n",
    "    df=df_concatenado,\n",
    "    description=\"Features de casos.\"\n",
    ")\n",
    "print(f\"Tabla {FEATURES_TABLE_NAME} creada en el Feature Store.\")"
   ]
  }
 ],
 "metadata": {
  "application/vnd.databricks.v1+notebook": {
   "dashboards": [],
   "environmentMetadata": {
    "base_environment": "",
    "client": "1"
   },
   "language": "python",
   "notebookMetadata": {
    "pythonIndentUnit": 4
   },
   "notebookName": "data_preparation",
   "widgets": {}
  }
 },
 "nbformat": 4,
 "nbformat_minor": 0
}
