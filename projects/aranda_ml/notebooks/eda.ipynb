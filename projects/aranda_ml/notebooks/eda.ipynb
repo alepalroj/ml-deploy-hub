{
 "cells": [
  {
   "cell_type": "code",
   "execution_count": 0,
   "metadata": {
    "application/vnd.databricks.v1+cell": {
     "cellMetadata": {},
     "inputWidgets": {},
     "nuid": "28d145ff-2721-4ec8-bf8a-d172a6a1eafb",
     "showTitle": false,
     "title": ""
    }
   },
   "outputs": [],
   "source": [
    "TABLE_NAME_UC = \"tmp_cat_dev.aranda.casos\""
   ]
  },
  {
   "cell_type": "code",
   "execution_count": 0,
   "metadata": {
    "application/vnd.databricks.v1+cell": {
     "cellMetadata": {},
     "inputWidgets": {},
     "nuid": "140a50d6-8623-48f3-9352-4c75b379321a",
     "showTitle": false,
     "title": ""
    }
   },
   "outputs": [],
   "source": [
    "df = spark.read.table(TABLE_NAME_UC)"
   ]
  },
  {
   "cell_type": "code",
   "execution_count": 0,
   "metadata": {
    "application/vnd.databricks.v1+cell": {
     "cellMetadata": {},
     "inputWidgets": {},
     "nuid": "7c62d270-4f6f-418f-8c49-d55f4f897a7f",
     "showTitle": false,
     "title": ""
    }
   },
   "outputs": [],
   "source": [
    "df.printSchema()"
   ]
  },
  {
   "cell_type": "code",
   "execution_count": 0,
   "metadata": {
    "application/vnd.databricks.v1+cell": {
     "cellMetadata": {},
     "inputWidgets": {},
     "nuid": "a6849196-bbad-4ab1-81ad-e48341df4d4d",
     "showTitle": false,
     "title": ""
    }
   },
   "outputs": [],
   "source": [
    "df.printSchema()"
   ]
  },
  {
   "cell_type": "code",
   "execution_count": 0,
   "metadata": {
    "application/vnd.databricks.v1+cell": {
     "cellMetadata": {},
     "inputWidgets": {},
     "nuid": "c47a47e7-2cbb-419d-9b96-58290847502c",
     "showTitle": false,
     "title": ""
    }
   },
   "outputs": [],
   "source": [
    "dbutils.data.summarize(df)"
   ]
  },
  {
   "cell_type": "code",
   "execution_count": 0,
   "metadata": {
    "application/vnd.databricks.v1+cell": {
     "cellMetadata": {},
     "inputWidgets": {},
     "nuid": "34c0c83d-7d0b-4169-82ae-15974c89b644",
     "showTitle": false,
     "title": ""
    }
   },
   "outputs": [],
   "source": [
    "casesByCityName = df.groupBy(\"CityName\").count()\n",
    "casesByServiceName = df.groupBy(\"ServiceName\").count()\n",
    "cities = casesByCityName.toPandas()\n",
    "services = casesByServiceName.toPandas()"
   ]
  },
  {
   "cell_type": "code",
   "execution_count": 0,
   "metadata": {
    "application/vnd.databricks.v1+cell": {
     "cellMetadata": {},
     "inputWidgets": {},
     "nuid": "e278d549-938e-4445-a877-3fd21bfe0e6a",
     "showTitle": false,
     "title": ""
    }
   },
   "outputs": [],
   "source": [
    "import matplotlib.pyplot as plt\n",
    "import seaborn as sns\n",
    "\n",
    "top_cities = cities.sort_values(by=\"count\", ascending=False).head(20)\n",
    "sns.set(style=\"whitegrid\")\n",
    "plt.figure(figsize=(8, 6))\n",
    "sns.barplot(x=\"CityName\", y=\"count\", data=top_cities, palette=\"viridis\")\n",
    "plt.title(\"Top 20 Ciudades con más Casos\", fontsize=16)\n",
    "plt.xlabel(\"Ciudad\", fontsize=12)\n",
    "plt.ylabel(\"Número de Casos\", fontsize=12)\n",
    "plt.xticks(rotation=45, ha='right')\n",
    "plt.tight_layout()\n",
    "plt.show()"
   ]
  },
  {
   "cell_type": "code",
   "execution_count": 0,
   "metadata": {
    "application/vnd.databricks.v1+cell": {
     "cellMetadata": {},
     "inputWidgets": {},
     "nuid": "dfe8fc15-0d1a-4818-b296-78ba6e1f811d",
     "showTitle": false,
     "title": ""
    }
   },
   "outputs": [],
   "source": [
    "import matplotlib.pyplot as plt\n",
    "import seaborn as sns\n",
    "\n",
    "top_services = services.sort_values(by=\"count\", ascending=False).head(10)\n",
    "sns.set(style=\"whitegrid\")\n",
    "plt.figure(figsize=(10, 6))\n",
    "sns.barplot(x=\"ServiceName\", y=\"count\", data=top_services, palette=\"viridis\")\n",
    "plt.title(\"Top 20 Servicios con más Casos\", fontsize=14)\n",
    "plt.xlabel(\"Servicio\", fontsize=12)\n",
    "plt.ylabel(\"Número de Casos\", fontsize=12)\n",
    "plt.xticks(rotation=45, ha='right')\n",
    "plt.tight_layout()\n",
    "plt.show()"
   ]
  }
 ],
 "metadata": {
  "application/vnd.databricks.v1+notebook": {
   "dashboards": [],
   "environmentMetadata": {
    "base_environment": "",
    "client": "1"
   },
   "language": "python",
   "notebookMetadata": {
    "pythonIndentUnit": 4
   },
   "notebookName": "eda",
   "widgets": {}
  }
 },
 "nbformat": 4,
 "nbformat_minor": 0
}
